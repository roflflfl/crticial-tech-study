{
  "nbformat": 4,
  "nbformat_minor": 0,
  "metadata": {
    "colab": {
      "provenance": [],
      "include_colab_link": true
    },
    "kernelspec": {
      "name": "python3",
      "display_name": "Python 3"
    },
    "language_info": {
      "name": "python"
    }
  },
  "cells": [
    {
      "cell_type": "markdown",
      "metadata": {
        "id": "view-in-github",
        "colab_type": "text"
      },
      "source": [
        "<a href=\"https://colab.research.google.com/github/roflflfl/crticial-tech-study/blob/main/Copy_of_Telegram_202_Advanced_analysis_and_data_collection.ipynb\" target=\"_parent\"><img src=\"https://colab.research.google.com/assets/colab-badge.svg\" alt=\"Open In Colab\"/></a>"
      ]
    },
    {
      "cell_type": "markdown",
      "source": [
        "# Telegram 202 - Advanced use of Telegram"
      ],
      "metadata": {
        "id": "cAbDF5rVKNmW"
      }
    },
    {
      "cell_type": "markdown",
      "source": [
        "This command downloads data from the GitHub repository to the Notebook"
      ],
      "metadata": {
        "id": "wVtuE2hCKZQl"
      }
    },
    {
      "cell_type": "code",
      "execution_count": 1,
      "metadata": {
        "colab": {
          "base_uri": "https://localhost:8080/"
        },
        "id": "ZI37fAJcSl7n",
        "outputId": "af7dcc00-0a00-4bb2-988b-3150923958a0"
      },
      "outputs": [
        {
          "output_type": "stream",
          "name": "stdout",
          "text": [
            "Cloning into 'telegram-api'...\n",
            "remote: Enumerating objects: 110, done.\u001b[K\n",
            "remote: Counting objects: 100% (53/53), done.\u001b[K\n",
            "remote: Compressing objects: 100% (17/17), done.\u001b[K\n",
            "remote: Total 110 (delta 43), reused 36 (delta 36), pack-reused 57 (from 3)\u001b[K\n",
            "Receiving objects: 100% (110/110), 30.25 KiB | 1.08 MiB/s, done.\n",
            "Resolving deltas: 100% (59/59), done.\n"
          ]
        }
      ],
      "source": [
        "!git clone https://github.com/estebanpdl/telegram-api.git"
      ]
    },
    {
      "cell_type": "markdown",
      "source": [
        "This instruction sets up the environment and installs the Python dependencies to the app. It \"downloads the building blocks\" to ensure the application can be launched correctly."
      ],
      "metadata": {
        "id": "pghk4b0CK2il"
      }
    },
    {
      "cell_type": "code",
      "source": [
        "!cd telegram-api && pip install -r requirements.txt"
      ],
      "metadata": {
        "id": "TlHQgvkMCJaC",
        "colab": {
          "base_uri": "https://localhost:8080/"
        },
        "outputId": "4f105ada-ea14-4754-ff23-ac47fcc6199c"
      },
      "execution_count": 2,
      "outputs": [
        {
          "output_type": "stream",
          "name": "stdout",
          "text": [
            "Collecting telethon (from -r requirements.txt (line 1))\n",
            "  Downloading Telethon-1.38.1-py3-none-any.whl.metadata (3.6 kB)\n",
            "Requirement already satisfied: pandas in /usr/local/lib/python3.10/dist-packages (from -r requirements.txt (line 2)) (2.2.2)\n",
            "Requirement already satisfied: openpyxl in /usr/local/lib/python3.10/dist-packages (from -r requirements.txt (line 3)) (3.1.5)\n",
            "Requirement already satisfied: tqdm in /usr/local/lib/python3.10/dist-packages (from -r requirements.txt (line 4)) (4.67.1)\n",
            "Requirement already satisfied: networkx in /usr/local/lib/python3.10/dist-packages (from -r requirements.txt (line 5)) (3.4.2)\n",
            "Requirement already satisfied: matplotlib in /usr/local/lib/python3.10/dist-packages (from -r requirements.txt (line 6)) (3.8.0)\n",
            "Requirement already satisfied: python-louvain in /usr/local/lib/python3.10/dist-packages (from -r requirements.txt (line 7)) (0.16)\n",
            "Collecting pyaes (from telethon->-r requirements.txt (line 1))\n",
            "  Downloading pyaes-1.6.1.tar.gz (28 kB)\n",
            "  Preparing metadata (setup.py) ... \u001b[?25l\u001b[?25hdone\n",
            "Requirement already satisfied: rsa in /usr/local/lib/python3.10/dist-packages (from telethon->-r requirements.txt (line 1)) (4.9)\n",
            "Requirement already satisfied: numpy>=1.22.4 in /usr/local/lib/python3.10/dist-packages (from pandas->-r requirements.txt (line 2)) (1.26.4)\n",
            "Requirement already satisfied: python-dateutil>=2.8.2 in /usr/local/lib/python3.10/dist-packages (from pandas->-r requirements.txt (line 2)) (2.8.2)\n",
            "Requirement already satisfied: pytz>=2020.1 in /usr/local/lib/python3.10/dist-packages (from pandas->-r requirements.txt (line 2)) (2024.2)\n",
            "Requirement already satisfied: tzdata>=2022.7 in /usr/local/lib/python3.10/dist-packages (from pandas->-r requirements.txt (line 2)) (2024.2)\n",
            "Requirement already satisfied: et-xmlfile in /usr/local/lib/python3.10/dist-packages (from openpyxl->-r requirements.txt (line 3)) (2.0.0)\n",
            "Requirement already satisfied: contourpy>=1.0.1 in /usr/local/lib/python3.10/dist-packages (from matplotlib->-r requirements.txt (line 6)) (1.3.1)\n",
            "Requirement already satisfied: cycler>=0.10 in /usr/local/lib/python3.10/dist-packages (from matplotlib->-r requirements.txt (line 6)) (0.12.1)\n",
            "Requirement already satisfied: fonttools>=4.22.0 in /usr/local/lib/python3.10/dist-packages (from matplotlib->-r requirements.txt (line 6)) (4.55.3)\n",
            "Requirement already satisfied: kiwisolver>=1.0.1 in /usr/local/lib/python3.10/dist-packages (from matplotlib->-r requirements.txt (line 6)) (1.4.7)\n",
            "Requirement already satisfied: packaging>=20.0 in /usr/local/lib/python3.10/dist-packages (from matplotlib->-r requirements.txt (line 6)) (24.2)\n",
            "Requirement already satisfied: pillow>=6.2.0 in /usr/local/lib/python3.10/dist-packages (from matplotlib->-r requirements.txt (line 6)) (11.0.0)\n",
            "Requirement already satisfied: pyparsing>=2.3.1 in /usr/local/lib/python3.10/dist-packages (from matplotlib->-r requirements.txt (line 6)) (3.2.0)\n",
            "Requirement already satisfied: six>=1.5 in /usr/local/lib/python3.10/dist-packages (from python-dateutil>=2.8.2->pandas->-r requirements.txt (line 2)) (1.17.0)\n",
            "Requirement already satisfied: pyasn1>=0.1.3 in /usr/local/lib/python3.10/dist-packages (from rsa->telethon->-r requirements.txt (line 1)) (0.6.1)\n",
            "Downloading Telethon-1.38.1-py3-none-any.whl (702 kB)\n",
            "\u001b[2K   \u001b[90m━━━━━━━━━━━━━━━━━━━━━━━━━━━━━━━━━━━━━━━━\u001b[0m \u001b[32m702.2/702.2 kB\u001b[0m \u001b[31m12.4 MB/s\u001b[0m eta \u001b[36m0:00:00\u001b[0m\n",
            "\u001b[?25hBuilding wheels for collected packages: pyaes\n",
            "  Building wheel for pyaes (setup.py) ... \u001b[?25l\u001b[?25hdone\n",
            "  Created wheel for pyaes: filename=pyaes-1.6.1-py3-none-any.whl size=26346 sha256=9fa178d876c36b76968179991248bb01d66925af1fcb3fa227ccc565fca9300e\n",
            "  Stored in directory: /root/.cache/pip/wheels/d6/84/5f/ea6aef85a93c7e1922486369874f4740a5642d261e09c59140\n",
            "Successfully built pyaes\n",
            "Installing collected packages: pyaes, telethon\n",
            "Successfully installed pyaes-1.6.1 telethon-1.38.1\n"
          ]
        }
      ]
    },
    {
      "cell_type": "code",
      "source": [],
      "metadata": {
        "id": "vhefmIK3LgXe"
      },
      "execution_count": null,
      "outputs": []
    },
    {
      "cell_type": "markdown",
      "source": [
        "### !!! Do not forget to update the configuration file with your Telegram developer account's credentials to collect data !!!"
      ],
      "metadata": {
        "id": "NSHLJ42ZLCJZ"
      }
    },
    {
      "cell_type": "markdown",
      "source": [
        "![DFRLab Logo](https://dfrlab.org/wp-content/themes/dfr-labs-child/dist/images/DFRLab-logo--footer.png)\n",
        "\n",
        "This notebook uses the [telegram-tracker](https://github.com/estebanpdl/telegram-tracker) Python tool to download data from Telegram messages. The data downloaded and credentials in this notebook will only remain in *your private* Google Colab session, meaning it will be deleted unless you download it."
      ],
      "metadata": {
        "id": "28YcQk1LKCIz"
      }
    },
    {
      "cell_type": "markdown",
      "source": [
        "You can update this part to either\n",
        "* Collect Telegram channels' data using a file `channels.txt` that you can upload to Google Colab\n",
        "* Or collect only one channel's data by using the command `!cd telegram-api && python main.py --telegram-channel <your_telegram_channel_handle>`"
      ],
      "metadata": {
        "id": "d55HualkLP9S"
      }
    },
    {
      "cell_type": "code",
      "source": [
        "!cd telegram-api && python main.py --batch-file /content/channels.txt"
      ],
      "metadata": {
        "id": "l3RQDM7fVg31",
        "colab": {
          "base_uri": "https://localhost:8080/"
        },
        "outputId": "e20ee540-ea43-4985-b7a8-e8d3249007d7"
      },
      "execution_count": null,
      "outputs": [
        {
          "output_type": "stream",
          "name": "stdout",
          "text": [
            "usage: main.py [-h] [--telegram-channel TELEGRAM_CHANNEL] --batch-file BATCH_FILE\n",
            "               [--limit-download-to-channel-metadata] [--output OUTPUT] [--min-id MIN_ID]\n",
            "main.py: error: unrecognized arguments: --data-path /content/telegram-api/output\n"
          ]
        }
      ]
    },
    {
      "cell_type": "markdown",
      "source": [
        "This instruction creates the file `msgs_dataset.csv` which will contain all of the downloaded messages for the chosen Telegram channels if you've usedd the command `python main.py --batch-file /content/channels.txt`"
      ],
      "metadata": {
        "id": "PQT1-7UzLkGn"
      }
    },
    {
      "cell_type": "code",
      "source": [
        "!cd telegram-api && python build-datasets.py"
      ],
      "metadata": {
        "colab": {
          "base_uri": "https://localhost:8080/"
        },
        "id": "5N8DFcF4g0Fu",
        "outputId": "1c49b919-c891-4227-f937-a3df2181be51"
      },
      "execution_count": null,
      "outputs": [
        {
          "output_type": "stream",
          "name": "stdout",
          "text": [
            "\n",
            "Init program at Fri Oct 25 07:46:30 2024\n",
            "\n",
            "\n",
            "Reading data from channel -> Republic_Of_GaGauZia\n",
            "Reading posts: 100% 61631/61631 [04:02<00:00, 254.35it/s]\n",
            "-- END --\n",
            "\n",
            "Reading data from channel -> moldova_cenzura\n",
            "Reading posts: 100% 16924/16924 [01:01<00:00, 276.74it/s]\n",
            "-- END --\n",
            "\n"
          ]
        }
      ]
    }
  ]
}